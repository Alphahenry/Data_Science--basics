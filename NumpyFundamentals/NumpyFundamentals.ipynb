{
 "cells": [
  {
   "cell_type": "code",
   "execution_count": 34,
   "id": "24cb8f4a",
   "metadata": {},
   "outputs": [],
   "source": [
    "import numpy as np\n",
    "import pandas as pd"
   ]
  },
  {
   "cell_type": "code",
   "execution_count": 18,
   "id": "655e6f97",
   "metadata": {},
   "outputs": [],
   "source": [
    "a1 = np.array([2,4,6,89,56])"
   ]
  },
  {
   "cell_type": "code",
   "execution_count": 19,
   "id": "93d66444",
   "metadata": {},
   "outputs": [
    {
     "data": {
      "text/plain": [
       "numpy.ndarray"
      ]
     },
     "execution_count": 19,
     "metadata": {},
     "output_type": "execute_result"
    }
   ],
   "source": [
    "type(a1)"
   ]
  },
  {
   "cell_type": "code",
   "execution_count": 25,
   "id": "cca19bf3",
   "metadata": {},
   "outputs": [],
   "source": [
    "a2 = np.array([[1.4, 2.6, 3.9],\n",
    "      [4.0, 5.4, 6.7]])\n"
   ]
  },
  {
   "cell_type": "code",
   "execution_count": 26,
   "id": "5bd725fd",
   "metadata": {},
   "outputs": [
    {
     "data": {
      "text/plain": [
       "array([[1.4, 2.6, 3.9],\n",
       "       [4. , 5.4, 6.7]])"
      ]
     },
     "execution_count": 26,
     "metadata": {},
     "output_type": "execute_result"
    }
   ],
   "source": [
    "a2"
   ]
  },
  {
   "cell_type": "code",
   "execution_count": 22,
   "id": "9f18abb9",
   "metadata": {},
   "outputs": [
    {
     "data": {
      "text/plain": [
       "array([[[ 1,  2,  3],\n",
       "        [ 4,  5,  6],\n",
       "        [ 7,  8,  9]],\n",
       "\n",
       "       [[10, 11, 12],\n",
       "        [13, 14, 15],\n",
       "        [16, 16, 17]]])"
      ]
     },
     "execution_count": 22,
     "metadata": {},
     "output_type": "execute_result"
    }
   ],
   "source": [
    "a3"
   ]
  },
  {
   "cell_type": "code",
   "execution_count": 23,
   "id": "40fd76a6",
   "metadata": {},
   "outputs": [],
   "source": [
    "#getting size, shape and dimension"
   ]
  },
  {
   "cell_type": "code",
   "execution_count": 27,
   "id": "537d7ff9",
   "metadata": {},
   "outputs": [
    {
     "data": {
      "text/plain": [
       "((5,), (2, 3), (2, 3, 3))"
      ]
     },
     "execution_count": 27,
     "metadata": {},
     "output_type": "execute_result"
    }
   ],
   "source": [
    "a1.shape, a2.shape,a3.shape"
   ]
  },
  {
   "cell_type": "code",
   "execution_count": 28,
   "id": "cead32da",
   "metadata": {},
   "outputs": [
    {
     "data": {
      "text/plain": [
       "(5, 6, 18)"
      ]
     },
     "execution_count": 28,
     "metadata": {},
     "output_type": "execute_result"
    }
   ],
   "source": [
    "a1.size, a2.size, a3.size"
   ]
  },
  {
   "cell_type": "code",
   "execution_count": 29,
   "id": "fa7af855",
   "metadata": {},
   "outputs": [
    {
     "data": {
      "text/plain": [
       "(numpy.ndarray, numpy.ndarray, numpy.ndarray)"
      ]
     },
     "execution_count": 29,
     "metadata": {},
     "output_type": "execute_result"
    }
   ],
   "source": [
    "type(a1),type(a2), type(a3)"
   ]
  },
  {
   "cell_type": "code",
   "execution_count": 31,
   "id": "92fb9126",
   "metadata": {},
   "outputs": [
    {
     "data": {
      "text/plain": [
       "(1, 2, 3)"
      ]
     },
     "execution_count": 31,
     "metadata": {},
     "output_type": "execute_result"
    }
   ],
   "source": [
    "a1.ndim, a2.ndim, a3.ndim"
   ]
  },
  {
   "cell_type": "markdown",
   "id": "4781b117",
   "metadata": {},
   "source": [
    "# creating a dataframe from pandas"
   ]
  },
  {
   "cell_type": "code",
   "execution_count": 35,
   "id": "6e1d7558",
   "metadata": {},
   "outputs": [],
   "source": [
    "df = pd.DataFrame(a2)"
   ]
  },
  {
   "cell_type": "code",
   "execution_count": 36,
   "id": "d0443b20",
   "metadata": {},
   "outputs": [
    {
     "data": {
      "text/html": [
       "<div>\n",
       "<style scoped>\n",
       "    .dataframe tbody tr th:only-of-type {\n",
       "        vertical-align: middle;\n",
       "    }\n",
       "\n",
       "    .dataframe tbody tr th {\n",
       "        vertical-align: top;\n",
       "    }\n",
       "\n",
       "    .dataframe thead th {\n",
       "        text-align: right;\n",
       "    }\n",
       "</style>\n",
       "<table border=\"1\" class=\"dataframe\">\n",
       "  <thead>\n",
       "    <tr style=\"text-align: right;\">\n",
       "      <th></th>\n",
       "      <th>0</th>\n",
       "      <th>1</th>\n",
       "      <th>2</th>\n",
       "    </tr>\n",
       "  </thead>\n",
       "  <tbody>\n",
       "    <tr>\n",
       "      <th>0</th>\n",
       "      <td>1.4</td>\n",
       "      <td>2.6</td>\n",
       "      <td>3.9</td>\n",
       "    </tr>\n",
       "    <tr>\n",
       "      <th>1</th>\n",
       "      <td>4.0</td>\n",
       "      <td>5.4</td>\n",
       "      <td>6.7</td>\n",
       "    </tr>\n",
       "  </tbody>\n",
       "</table>\n",
       "</div>"
      ],
      "text/plain": [
       "     0    1    2\n",
       "0  1.4  2.6  3.9\n",
       "1  4.0  5.4  6.7"
      ]
     },
     "execution_count": 36,
     "metadata": {},
     "output_type": "execute_result"
    }
   ],
   "source": [
    "df"
   ]
  },
  {
   "cell_type": "markdown",
   "id": "f744dfdc",
   "metadata": {},
   "source": [
    "## creating numpy arrays"
   ]
  },
  {
   "cell_type": "code",
   "execution_count": 37,
   "id": "15f8a7d9",
   "metadata": {},
   "outputs": [],
   "source": [
    "array_ones = np.ones((2, 3, 3))"
   ]
  },
  {
   "cell_type": "code",
   "execution_count": 38,
   "id": "24ca4234",
   "metadata": {},
   "outputs": [
    {
     "data": {
      "text/plain": [
       "array([[[1., 1., 1.],\n",
       "        [1., 1., 1.],\n",
       "        [1., 1., 1.]],\n",
       "\n",
       "       [[1., 1., 1.],\n",
       "        [1., 1., 1.],\n",
       "        [1., 1., 1.]]])"
      ]
     },
     "execution_count": 38,
     "metadata": {},
     "output_type": "execute_result"
    }
   ],
   "source": [
    "array_ones"
   ]
  },
  {
   "cell_type": "code",
   "execution_count": 41,
   "id": "a26dbe69",
   "metadata": {},
   "outputs": [],
   "source": [
    "array2 = np.ones((2, 4, 4))"
   ]
  },
  {
   "cell_type": "code",
   "execution_count": 42,
   "id": "d36edba4",
   "metadata": {},
   "outputs": [
    {
     "data": {
      "text/plain": [
       "array([[[1., 1., 1., 1.],\n",
       "        [1., 1., 1., 1.],\n",
       "        [1., 1., 1., 1.],\n",
       "        [1., 1., 1., 1.]],\n",
       "\n",
       "       [[1., 1., 1., 1.],\n",
       "        [1., 1., 1., 1.],\n",
       "        [1., 1., 1., 1.],\n",
       "        [1., 1., 1., 1.]]])"
      ]
     },
     "execution_count": 42,
     "metadata": {},
     "output_type": "execute_result"
    }
   ],
   "source": [
    "array2"
   ]
  },
  {
   "cell_type": "code",
   "execution_count": 43,
   "id": "adb9f830",
   "metadata": {},
   "outputs": [
    {
     "data": {
      "text/plain": [
       "dtype('float64')"
      ]
     },
     "execution_count": 43,
     "metadata": {},
     "output_type": "execute_result"
    }
   ],
   "source": [
    "array2.dtype"
   ]
  },
  {
   "cell_type": "code",
   "execution_count": 44,
   "id": "72c13cbc",
   "metadata": {},
   "outputs": [
    {
     "data": {
      "text/plain": [
       "numpy.ndarray"
      ]
     },
     "execution_count": 44,
     "metadata": {},
     "output_type": "execute_result"
    }
   ],
   "source": [
    "type(array2)"
   ]
  },
  {
   "cell_type": "code",
   "execution_count": 45,
   "id": "fdc8413e",
   "metadata": {},
   "outputs": [],
   "source": [
    "#filled with zeroes"
   ]
  },
  {
   "cell_type": "code",
   "execution_count": 50,
   "id": "8152d981",
   "metadata": {},
   "outputs": [],
   "source": [
    "zero_array = np.zeros((2,3))"
   ]
  },
  {
   "cell_type": "code",
   "execution_count": 51,
   "id": "d022bd95",
   "metadata": {},
   "outputs": [
    {
     "data": {
      "text/plain": [
       "array([[0., 0., 0.],\n",
       "       [0., 0., 0.]])"
      ]
     },
     "execution_count": 51,
     "metadata": {},
     "output_type": "execute_result"
    }
   ],
   "source": [
    "\n",
    "zero_array"
   ]
  },
  {
   "cell_type": "code",
   "execution_count": 52,
   "id": "986ec239",
   "metadata": {},
   "outputs": [],
   "source": [
    "#range array"
   ]
  },
  {
   "cell_type": "code",
   "execution_count": 53,
   "id": "6bf3894d",
   "metadata": {},
   "outputs": [
    {
     "data": {
      "text/plain": [
       "array([0, 2, 4, 6, 8])"
      ]
     },
     "execution_count": 53,
     "metadata": {},
     "output_type": "execute_result"
    }
   ],
   "source": [
    "range_arr = np.arange(0, 10, 2)\n",
    "range_arr"
   ]
  },
  {
   "cell_type": "code",
   "execution_count": 54,
   "id": "2e5efec6",
   "metadata": {},
   "outputs": [],
   "source": [
    "#using randint"
   ]
  },
  {
   "cell_type": "code",
   "execution_count": 56,
   "id": "fe881398",
   "metadata": {},
   "outputs": [
    {
     "data": {
      "text/plain": [
       "array([[4, 3, 7, 5, 1],\n",
       "       [6, 8, 4, 2, 7],\n",
       "       [5, 7, 4, 9, 4]])"
      ]
     },
     "execution_count": 56,
     "metadata": {},
     "output_type": "execute_result"
    }
   ],
   "source": [
    "rand_arr = np.random.randint(0, 10, size=(3,5))\n",
    "rand_arr"
   ]
  },
  {
   "cell_type": "code",
   "execution_count": 57,
   "id": "f86b0767",
   "metadata": {},
   "outputs": [],
   "source": [
    "rand_arr2 = np.random.randint(0,10, size= (2,2))"
   ]
  },
  {
   "cell_type": "code",
   "execution_count": 59,
   "id": "2fde9740",
   "metadata": {},
   "outputs": [
    {
     "data": {
      "text/plain": [
       "array([[7, 0],\n",
       "       [5, 9]])"
      ]
     },
     "execution_count": 59,
     "metadata": {},
     "output_type": "execute_result"
    }
   ],
   "source": [
    "rand_arr2\n"
   ]
  },
  {
   "cell_type": "code",
   "execution_count": 60,
   "id": "f4e030bf",
   "metadata": {},
   "outputs": [],
   "source": [
    "#using random.random"
   ]
  },
  {
   "cell_type": "code",
   "execution_count": 63,
   "id": "50190e35",
   "metadata": {},
   "outputs": [
    {
     "data": {
      "text/plain": [
       "array([[[2.57614611, 6.19921329, 6.22625531],\n",
       "        [8.66364133, 4.94043173, 6.93409891],\n",
       "        [2.97316232, 3.02188597, 9.03021615],\n",
       "        [8.19822389, 9.00604512, 3.79445458],\n",
       "        [5.16196589, 7.59401605, 5.56519473]],\n",
       "\n",
       "       [[8.34193879, 5.90161918, 9.40195383],\n",
       "        [2.64199707, 4.77558862, 6.61656497],\n",
       "        [6.79585162, 6.49358869, 3.19834285],\n",
       "        [1.2897583 , 3.25275486, 2.71631044],\n",
       "        [5.48947219, 6.55621594, 6.6563298 ]],\n",
       "\n",
       "       [[6.54804096, 5.08694407, 8.49717515],\n",
       "        [4.82833371, 7.1782831 , 5.94195984],\n",
       "        [6.6501022 , 9.40863301, 0.38558953],\n",
       "        [1.09020414, 9.96497712, 3.17563039],\n",
       "        [0.01844414, 7.08664248, 1.97927272]]])"
      ]
     },
     "execution_count": 63,
     "metadata": {},
     "output_type": "execute_result"
    }
   ],
   "source": [
    "rand_arr3 = np.random.random((3,5,3)) *10\n",
    "rand_arr3"
   ]
  },
  {
   "cell_type": "markdown",
   "id": "25026d29",
   "metadata": {},
   "source": [
    "# seed"
   ]
  },
  {
   "cell_type": "code",
   "execution_count": null,
   "id": "cd1a0c7d",
   "metadata": {},
   "outputs": [],
   "source": []
  }
 ],
 "metadata": {
  "kernelspec": {
   "display_name": "Python 3 (ipykernel)",
   "language": "python",
   "name": "python3"
  },
  "language_info": {
   "codemirror_mode": {
    "name": "ipython",
    "version": 3
   },
   "file_extension": ".py",
   "mimetype": "text/x-python",
   "name": "python",
   "nbconvert_exporter": "python",
   "pygments_lexer": "ipython3",
   "version": "3.9.13"
  }
 },
 "nbformat": 4,
 "nbformat_minor": 5
}
