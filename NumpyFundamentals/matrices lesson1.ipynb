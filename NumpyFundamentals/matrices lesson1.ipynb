{
 "cells": [
  {
   "cell_type": "markdown",
   "id": "7e16590e",
   "metadata": {},
   "source": [
    "# Working with matrices using Numpy"
   ]
  },
  {
   "cell_type": "markdown",
   "id": "8fe670b7",
   "metadata": {},
   "source": [
    "#load the numpy library\n",
    "import numpy as np"
   ]
  },
  {
   "cell_type": "code",
   "execution_count": 3,
   "id": "d4ddfae8",
   "metadata": {},
   "outputs": [],
   "source": [
    "#create a matrix\n",
    "matrix = np.array([[1,2,3],[4,5,6],[7,8,9]])"
   ]
  },
  {
   "cell_type": "code",
   "execution_count": 4,
   "id": "0b38c5cf",
   "metadata": {},
   "outputs": [
    {
     "name": "stdout",
     "output_type": "stream",
     "text": [
      "[[1 2 3]\n",
      " [4 5 6]\n",
      " [7 8 9]]\n"
     ]
    }
   ],
   "source": [
    "print(matrix)"
   ]
  },
  {
   "cell_type": "code",
   "execution_count": 5,
   "id": "88f57ffe",
   "metadata": {},
   "outputs": [
    {
     "data": {
      "text/plain": [
       "2"
      ]
     },
     "execution_count": 5,
     "metadata": {},
     "output_type": "execute_result"
    }
   ],
   "source": [
    "#selecting 2 from the matrix\n",
    "matrix[0,1]"
   ]
  },
  {
   "cell_type": "code",
   "execution_count": 6,
   "id": "8d608b3f",
   "metadata": {},
   "outputs": [
    {
     "data": {
      "text/plain": [
       "9"
      ]
     },
     "execution_count": 6,
     "metadata": {},
     "output_type": "execute_result"
    }
   ],
   "source": [
    "matrix[2,2]"
   ]
  },
  {
   "cell_type": "code",
   "execution_count": 7,
   "id": "b28dbcf1",
   "metadata": {},
   "outputs": [
    {
     "data": {
      "text/plain": [
       "6"
      ]
     },
     "execution_count": 7,
     "metadata": {},
     "output_type": "execute_result"
    }
   ],
   "source": [
    "matrix[1,2]"
   ]
  },
  {
   "cell_type": "code",
   "execution_count": 8,
   "id": "33565557",
   "metadata": {},
   "outputs": [],
   "source": [
    "#creating an array\n",
    "myArray = np.array([2,5,3,1,8,10,13,15])"
   ]
  },
  {
   "cell_type": "code",
   "execution_count": 9,
   "id": "17d22996",
   "metadata": {},
   "outputs": [
    {
     "data": {
      "text/plain": [
       "array([ 2,  5,  3,  1,  8, 10, 13, 15])"
      ]
     },
     "execution_count": 9,
     "metadata": {},
     "output_type": "execute_result"
    }
   ],
   "source": [
    "#select all elements\n",
    "myArray[:]"
   ]
  },
  {
   "cell_type": "code",
   "execution_count": 11,
   "id": "32090170",
   "metadata": {},
   "outputs": [
    {
     "data": {
      "text/plain": [
       "array([ 2,  5,  3,  1,  8, 10])"
      ]
     },
     "execution_count": 11,
     "metadata": {},
     "output_type": "execute_result"
    }
   ],
   "source": [
    "#select all elements upto and including 10\n",
    "myArray[:6]"
   ]
  },
  {
   "cell_type": "code",
   "execution_count": 12,
   "id": "d072c4a8",
   "metadata": {},
   "outputs": [
    {
     "data": {
      "text/plain": [
       "array([ 1,  8, 10, 13, 15])"
      ]
     },
     "execution_count": 12,
     "metadata": {},
     "output_type": "execute_result"
    }
   ],
   "source": [
    "#select all elements after the 4th element\n",
    "myArray[3:]"
   ]
  },
  {
   "cell_type": "code",
   "execution_count": 13,
   "id": "a8c1ed6a",
   "metadata": {},
   "outputs": [
    {
     "data": {
      "text/plain": [
       "array([[1, 2, 3],\n",
       "       [4, 5, 6],\n",
       "       [7, 8, 9]])"
      ]
     },
     "execution_count": 13,
     "metadata": {},
     "output_type": "execute_result"
    }
   ],
   "source": [
    "matrix"
   ]
  },
  {
   "cell_type": "code",
   "execution_count": 14,
   "id": "944e384a",
   "metadata": {},
   "outputs": [
    {
     "data": {
      "text/plain": [
       "array([[2],\n",
       "       [5]])"
      ]
     },
     "execution_count": 14,
     "metadata": {},
     "output_type": "execute_result"
    }
   ],
   "source": [
    "#select the first two rows and the second column of the matrix\n",
    "matrix[:2,1:2]"
   ]
  },
  {
   "cell_type": "markdown",
   "id": "3b5cb33c",
   "metadata": {},
   "source": [
    "# Describing a Matrix"
   ]
  },
  {
   "cell_type": "code",
   "execution_count": 16,
   "id": "3ba62840",
   "metadata": {},
   "outputs": [
    {
     "data": {
      "text/plain": [
       "array([[ 1,  2,  3,  4],\n",
       "       [ 5,  6,  7,  8],\n",
       "       [ 9, 10, 11, 12]])"
      ]
     },
     "execution_count": 16,
     "metadata": {},
     "output_type": "execute_result"
    }
   ],
   "source": [
    "#create a matrix\n",
    "myMatrix = np.array([[1,2,3,4],[5,6,7,8],[9,10,11,12]])\n",
    "myMatrix"
   ]
  },
  {
   "cell_type": "code",
   "execution_count": 17,
   "id": "e819e48e",
   "metadata": {},
   "outputs": [
    {
     "data": {
      "text/plain": [
       "(3, 4)"
      ]
     },
     "execution_count": 17,
     "metadata": {},
     "output_type": "execute_result"
    }
   ],
   "source": [
    "#view the shape of the matrix\n",
    "myMatrix.shape"
   ]
  },
  {
   "cell_type": "code",
   "execution_count": 19,
   "id": "7ffd5924",
   "metadata": {},
   "outputs": [
    {
     "data": {
      "text/plain": [
       "12"
      ]
     },
     "execution_count": 19,
     "metadata": {},
     "output_type": "execute_result"
    }
   ],
   "source": [
    "#view no of elements\n",
    "myMatrix.size"
   ]
  },
  {
   "cell_type": "code",
   "execution_count": 20,
   "id": "f72f6d6f",
   "metadata": {},
   "outputs": [
    {
     "data": {
      "text/plain": [
       "2"
      ]
     },
     "execution_count": 20,
     "metadata": {},
     "output_type": "execute_result"
    }
   ],
   "source": [
    "#view the dimension\n",
    "myMatrix.ndim"
   ]
  },
  {
   "cell_type": "code",
   "execution_count": null,
   "id": "4a1a738d",
   "metadata": {},
   "outputs": [],
   "source": []
  },
  {
   "cell_type": "code",
   "execution_count": null,
   "id": "4d377aad",
   "metadata": {},
   "outputs": [],
   "source": []
  }
 ],
 "metadata": {
  "kernelspec": {
   "display_name": "Python 3 (ipykernel)",
   "language": "python",
   "name": "python3"
  },
  "language_info": {
   "codemirror_mode": {
    "name": "ipython",
    "version": 3
   },
   "file_extension": ".py",
   "mimetype": "text/x-python",
   "name": "python",
   "nbconvert_exporter": "python",
   "pygments_lexer": "ipython3",
   "version": "3.9.13"
  }
 },
 "nbformat": 4,
 "nbformat_minor": 5
}
